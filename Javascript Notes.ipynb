{
 "cells": [
  {
   "cell_type": "markdown",
   "metadata": {},
   "source": [
    "# Javascript Notes"
   ]
  },
  {
   "cell_type": "markdown",
   "metadata": {},
   "source": [
    "i found several option to run javascript on jupyer noteboks in order to prepare this file. the one that works better for me is running in the Anaconda prompt:\n",
    "\n",
    "```bash\n",
    "conda install nodejs\n",
    "npm install -g ijavascript\n",
    "ijsinstall\n",
    "```"
   ]
  },
  {
   "cell_type": "markdown",
   "metadata": {},
   "source": [
    "## Javascript Data Types\n",
    "- 1. Number\n",
    "- 2. String\n",
    "- 3. Boolean\n",
    "- 4. Undefined\n",
    "- 5. Null\n",
    "- 6. Symbol\n",
    "- 7. Object"
   ]
  },
  {
   "cell_type": "code",
   "execution_count": 20,
   "metadata": {},
   "outputs": [
    {
     "data": {
      "text/plain": [
       "'534'"
      ]
     },
     "execution_count": 20,
     "metadata": {},
     "output_type": "execute_result"
    }
   ],
   "source": [
    "<!-- Examples -->\n",
    "\n",
    "5 + \"34\""
   ]
  },
  {
   "cell_type": "code",
   "execution_count": 8,
   "metadata": {},
   "outputs": [
    {
     "data": {
      "text/plain": [
       "1"
      ]
     },
     "execution_count": 8,
     "metadata": {},
     "output_type": "execute_result"
    }
   ],
   "source": [
    "5 - \"4\""
   ]
  },
  {
   "cell_type": "code",
   "execution_count": 9,
   "metadata": {},
   "outputs": [
    {
     "data": {
      "text/plain": [
       "0"
      ]
     },
     "execution_count": 9,
     "metadata": {},
     "output_type": "execute_result"
    }
   ],
   "source": [
    "10 % 5"
   ]
  },
  {
   "cell_type": "code",
   "execution_count": 10,
   "metadata": {},
   "outputs": [
    {
     "data": {
      "text/plain": [
       "5"
      ]
     },
     "execution_count": 10,
     "metadata": {},
     "output_type": "execute_result"
    }
   ],
   "source": [
    "5 % 10"
   ]
  },
  {
   "cell_type": "code",
   "execution_count": 11,
   "metadata": {},
   "outputs": [
    {
     "data": {
      "text/plain": [
       "'JavaScript'"
      ]
     },
     "execution_count": 11,
     "metadata": {},
     "output_type": "execute_result"
    }
   ],
   "source": [
    "\"Java\" + \"Script\""
   ]
  },
  {
   "cell_type": "code",
   "execution_count": 12,
   "metadata": {},
   "outputs": [
    {
     "data": {
      "text/plain": [
       "'  '"
      ]
     },
     "execution_count": 12,
     "metadata": {},
     "output_type": "execute_result"
    }
   ],
   "source": [
    "\" \" + \" \""
   ]
  },
  {
   "cell_type": "code",
   "execution_count": 13,
   "metadata": {},
   "outputs": [
    {
     "data": {
      "text/plain": [
       "' 0'"
      ]
     },
     "execution_count": 13,
     "metadata": {},
     "output_type": "execute_result"
    }
   ],
   "source": [
    "\" \" + 0"
   ]
  },
  {
   "cell_type": "code",
   "execution_count": 14,
   "metadata": {},
   "outputs": [
    {
     "data": {
      "text/plain": [
       "2"
      ]
     },
     "execution_count": 14,
     "metadata": {},
     "output_type": "execute_result"
    }
   ],
   "source": [
    "true + true"
   ]
  },
  {
   "cell_type": "code",
   "execution_count": 15,
   "metadata": {},
   "outputs": [
    {
     "data": {
      "text/plain": [
       "1"
      ]
     },
     "execution_count": 15,
     "metadata": {},
     "output_type": "execute_result"
    }
   ],
   "source": [
    "true + false"
   ]
  },
  {
   "cell_type": "code",
   "execution_count": 16,
   "metadata": {},
   "outputs": [
    {
     "data": {
      "text/plain": [
       "1"
      ]
     },
     "execution_count": 16,
     "metadata": {},
     "output_type": "execute_result"
    }
   ],
   "source": [
    "false + true"
   ]
  },
  {
   "cell_type": "code",
   "execution_count": 17,
   "metadata": {},
   "outputs": [
    {
     "data": {
      "text/plain": [
       "-1"
      ]
     },
     "execution_count": 17,
     "metadata": {},
     "output_type": "execute_result"
    }
   ],
   "source": [
    "false - true"
   ]
  },
  {
   "cell_type": "code",
   "execution_count": 18,
   "metadata": {},
   "outputs": [
    {
     "data": {
      "text/plain": [
       "-1"
      ]
     },
     "execution_count": 18,
     "metadata": {},
     "output_type": "execute_result"
    }
   ],
   "source": [
    "3 - 4"
   ]
  },
  {
   "cell_type": "code",
   "execution_count": 19,
   "metadata": {},
   "outputs": [
    {
     "data": {
      "text/plain": [
       "NaN"
      ]
     },
     "execution_count": 19,
     "metadata": {},
     "output_type": "execute_result"
    }
   ],
   "source": [
    "\"Bob\" - \"bill\""
   ]
  },
  {
   "cell_type": "markdown",
   "metadata": {},
   "source": [
    "## Javascript Comparisons\n",
    "- `!==`\n",
    "- `===`\n",
    "- `>=`\n",
    "- `<=`\n",
    "- `>`\n",
    "- `<`"
   ]
  },
  {
   "cell_type": "code",
   "execution_count": 21,
   "metadata": {},
   "outputs": [
    {
     "data": {
      "text/plain": [
       "true"
      ]
     },
     "execution_count": 21,
     "metadata": {},
     "output_type": "execute_result"
    }
   ],
   "source": [
    "<!-- Examples  -->\n",
    "5 >= 1"
   ]
  },
  {
   "cell_type": "code",
   "execution_count": 22,
   "metadata": {},
   "outputs": [
    {
     "data": {
      "text/plain": [
       "false"
      ]
     },
     "execution_count": 22,
     "metadata": {},
     "output_type": "execute_result"
    }
   ],
   "source": [
    "0 === 1"
   ]
  },
  {
   "cell_type": "code",
   "execution_count": 23,
   "metadata": {},
   "outputs": [
    {
     "data": {
      "text/plain": [
       "false"
      ]
     },
     "execution_count": 23,
     "metadata": {},
     "output_type": "execute_result"
    }
   ],
   "source": [
    "4 <= 1"
   ]
  },
  {
   "cell_type": "code",
   "execution_count": 24,
   "metadata": {},
   "outputs": [
    {
     "data": {
      "text/plain": [
       "false"
      ]
     },
     "execution_count": 24,
     "metadata": {},
     "output_type": "execute_result"
    }
   ],
   "source": [
    "1 != 1"
   ]
  },
  {
   "cell_type": "code",
   "execution_count": 25,
   "metadata": {},
   "outputs": [
    {
     "data": {
      "text/plain": [
       "false"
      ]
     },
     "execution_count": 25,
     "metadata": {},
     "output_type": "execute_result"
    }
   ],
   "source": [
    "\"A\" > \"B\""
   ]
  },
  {
   "cell_type": "code",
   "execution_count": 26,
   "metadata": {},
   "outputs": [
    {
     "data": {
      "text/plain": [
       "true"
      ]
     },
     "execution_count": 26,
     "metadata": {},
     "output_type": "execute_result"
    }
   ],
   "source": [
    "\"B\" < \"C\""
   ]
  },
  {
   "cell_type": "code",
   "execution_count": 27,
   "metadata": {},
   "outputs": [
    {
     "data": {
      "text/plain": [
       "true"
      ]
     },
     "execution_count": 27,
     "metadata": {},
     "output_type": "execute_result"
    }
   ],
   "source": [
    "\"a\" > \"A\""
   ]
  },
  {
   "cell_type": "code",
   "execution_count": 28,
   "metadata": {},
   "outputs": [
    {
     "data": {
      "text/plain": [
       "false"
      ]
     },
     "execution_count": 28,
     "metadata": {},
     "output_type": "execute_result"
    }
   ],
   "source": [
    "\"b\" < \"A\""
   ]
  },
  {
   "cell_type": "code",
   "execution_count": 29,
   "metadata": {},
   "outputs": [
    {
     "data": {
      "text/plain": [
       "false"
      ]
     },
     "execution_count": 29,
     "metadata": {},
     "output_type": "execute_result"
    }
   ],
   "source": [
    "true === false"
   ]
  },
  {
   "cell_type": "code",
   "execution_count": 30,
   "metadata": {},
   "outputs": [
    {
     "data": {
      "text/plain": [
       "false"
      ]
     },
     "execution_count": 30,
     "metadata": {},
     "output_type": "execute_result"
    }
   ],
   "source": [
    "true != true"
   ]
  },
  {
   "cell_type": "markdown",
   "metadata": {},
   "source": [
    "## Javascript Variables\n",
    "Variables can hold any type of data type\n",
    "\n",
    "Variables usually use camel case name convention with thefirst letter in lowercase. in some cases underscore and\n",
    "- `var`\n",
    "- `let` (new)\n",
    "- `const` (new)"
   ]
  },
  {
   "cell_type": "code",
   "execution_count": 33,
   "metadata": {},
   "outputs": [
    {
     "data": {
      "text/plain": [
       "23"
      ]
     },
     "execution_count": 33,
     "metadata": {},
     "output_type": "execute_result"
    }
   ],
   "source": [
    "// Evaluate this question. What is a + b?\n",
    "var a = 34;\n",
    "var b = 21;\n",
    "a = 2;\n",
    "a + b                // what is the answer here?"
   ]
  },
  {
   "cell_type": "code",
   "execution_count": 32,
   "metadata": {},
   "outputs": [],
   "source": [
    "// What is c equal to?\n",
    "var c;\n",
    "c                   // it is undefined"
   ]
  },
  {
   "cell_type": "markdown",
   "metadata": {},
   "source": [
    "The are funtion similar to Python to enter text, like in python we have input, here in javascript is prompt().\n",
    "Unfurtunatly, i have not been able to make them work here in Jupyter. The usage is very similar (and also expects text):\n",
    "```javascript\n",
    "prompt(\"What is your name. \")\n",
    "```"
   ]
  },
  {
   "cell_type": "markdown",
   "metadata": {},
   "source": [
    "We can change text to number with the function\n",
    "```javascript\n",
    "Number(variable)\n",
    "```"
   ]
  },
  {
   "cell_type": "markdown",
   "metadata": {},
   "source": [
    "Print in python is very similar to alert\n",
    "```javascript\n",
    "alert(variable)\n",
    "```"
   ]
  },
  {
   "cell_type": "markdown",
   "metadata": {},
   "source": [
    "A program that could run in a fully functional javascript conosle:\n",
    "```javascript\n",
    "var firstNumber = prompt(\"Please provide the first number\"); \n",
    "var secondNumber = prompt(\"Please provide the second number\"); \n",
    "alert(Number(firstNumber) + Number(secondNumber));\n",
    "```"
   ]
  },
  {
   "cell_type": "markdown",
   "metadata": {},
   "source": [
    "## Javascript Conditionals\n",
    "\n",
    "- `if`\n",
    "- `else`\n",
    "- `else if`\n",
    "- ternary operator\n",
    "- switch"
   ]
  },
  {
   "cell_type": "markdown",
   "metadata": {},
   "source": [
    "```js\n",
    "// Example\n",
    "var age = prompt(\"What is your age?\");\n",
    "\n",
    "if (Number(age) < 18) {\n",
    "\talert(\"Sorry, you are too yound to drive this car. Powering off\");\n",
    "} else if (Number(age) > 18) {\n",
    "\talert(\"Powering On. Enjoy the ride!\");\n",
    "} else if (Number(age) === 18) {\n",
    "\talert(\"Congratulations on your first year of driving. Enjoy the ride!\");\n",
    "}\n",
    "```"
   ]
  },
  {
   "cell_type": "markdown",
   "metadata": {},
   "source": [
    "## Javascript Logical Operators\n",
    "\n",
    "- `&&` (and)\n",
    "- `||` (or)\n",
    "- `!`  (not)"
   ]
  },
  {
   "cell_type": "markdown",
   "metadata": {},
   "source": [
    "```js\n",
    "// Example\n",
    "\n",
    "var name = prompt(\"What is your name?\");\n",
    "var age = prompt(\"What is your age?\");\n",
    "\n",
    "if (Number(age) < 18  && name===\"Ann\") {\n",
    "\talert(\"Sorry, you are too yound to drive this car. Powering off\");\n",
    "} else if (Number(age) > 18 || name===\"Peter\") {\n",
    "\talert(\"Powering On. Enjoy the ride!\");\n",
    "} else if (Number(age) === 18 ! name===\"John\") {\n",
    "\talert(\"Congratulations on your first year of driving. Enjoy the ride!\");\n",
    "}\n",
    "```"
   ]
  },
  {
   "cell_type": "markdown",
   "metadata": {},
   "source": [
    "## Javascript Funtions\n",
    "\n",
    "javascript has several builtin functions, like:\n",
    "\n",
    "- `alert()`\n",
    "- `prompt()`\n",
    "\n",
    "But we can create our own functions in several ways:\n",
    "\n",
    "- `function name() {}`\n",
    "- `var a = function name() {}`\n",
    "- `return`  (our function return undefined if no return keyword is used)\n",
    "- `()` (new)"
   ]
  },
  {
   "cell_type": "markdown",
   "metadata": {},
   "source": [
    "```js\n",
    "// Example\n",
    "function checkDriverAge() {\n",
    "\tvar age = prompt(\"What is your age?\");\n",
    "\tif (Number(age) < 18) {\n",
    "\t\talert(\"Sorry, you are too yound to drive this car. Powering off\");\n",
    "\t} else if (Number(age) > 18) {\n",
    "\t\talert(\"Powering On. Enjoy the ride!\");\n",
    "\t} else if (Number(age) === 18) {\n",
    "\t\talert(\"Congratulations on your first year of driving. Enjoy the ride!\");\n",
    "\t}\n",
    "}\n",
    "```"
   ]
  },
  {
   "cell_type": "markdown",
   "metadata": {},
   "source": [
    "## Javascript Data Structures\n",
    "\n",
    "- Array\n",
    "- Object\n"
   ]
  },
  {
   "cell_type": "code",
   "execution_count": 5,
   "metadata": {},
   "outputs": [],
   "source": [
    "// Using this array \n",
    "var myArray = [\"Banana\", \"Apples\", \"Oranges\", \"Blueberries\"];"
   ]
  },
  {
   "cell_type": "code",
   "execution_count": 6,
   "metadata": {},
   "outputs": [
    {
     "data": {
      "text/plain": [
       "'Banana'"
      ]
     },
     "execution_count": 6,
     "metadata": {},
     "output_type": "execute_result"
    }
   ],
   "source": [
    "// 1. Remove the Banana from the array.\n",
    "myArray.shift();"
   ]
  },
  {
   "cell_type": "code",
   "execution_count": 7,
   "metadata": {},
   "outputs": [
    {
     "data": {
      "text/plain": [
       "[ 'Apples', 'Blueberries', 'Oranges' ]"
      ]
     },
     "execution_count": 7,
     "metadata": {},
     "output_type": "execute_result"
    }
   ],
   "source": [
    "// 2. Sort the array in order. \n",
    "myArray.sort();"
   ]
  },
  {
   "cell_type": "code",
   "execution_count": 8,
   "metadata": {},
   "outputs": [
    {
     "data": {
      "text/plain": [
       "4"
      ]
     },
     "execution_count": 8,
     "metadata": {},
     "output_type": "execute_result"
    }
   ],
   "source": [
    "// 3. Put \"Kiwi\" at the end of the array.\n",
    "myArray.push(\"Kiwi\");"
   ]
  },
  {
   "cell_type": "code",
   "execution_count": 9,
   "metadata": {},
   "outputs": [
    {
     "data": {
      "text/plain": [
       "[ 'Apples' ]"
      ]
     },
     "execution_count": 9,
     "metadata": {},
     "output_type": "execute_result"
    }
   ],
   "source": [
    "// 4. Remove \"Apples\" from the array.\n",
    "myArray.splice(0, 1);"
   ]
  },
  {
   "cell_type": "code",
   "execution_count": 10,
   "metadata": {},
   "outputs": [
    {
     "data": {
      "text/plain": [
       "[ 'Kiwi', 'Oranges', 'Blueberries' ]"
      ]
     },
     "execution_count": 10,
     "metadata": {},
     "output_type": "execute_result"
    }
   ],
   "source": [
    "// 5. Sort the array in reverse order. \n",
    "myArray.reverse();"
   ]
  },
  {
   "cell_type": "code",
   "execution_count": 11,
   "metadata": {},
   "outputs": [],
   "source": [
    "// 6. Using this array, \n",
    "var myArray2 = [\"Banana\", [\"Apples\", [\"Oranges\"], \"Blueberries\"]];"
   ]
  },
  {
   "cell_type": "code",
   "execution_count": 13,
   "metadata": {},
   "outputs": [
    {
     "data": {
      "text/plain": [
       "'Oranges'"
      ]
     },
     "execution_count": 13,
     "metadata": {},
     "output_type": "execute_result"
    }
   ],
   "source": [
    "// 7. Access \"Oranges\".\n",
    "myArray2[1][1][0];"
   ]
  },
  {
   "cell_type": "code",
   "execution_count": 15,
   "metadata": {},
   "outputs": [
    {
     "data": {
      "text/plain": [
       "'John'"
      ]
     },
     "execution_count": 15,
     "metadata": {},
     "output_type": "execute_result"
    }
   ],
   "source": [
    "// 8. define a user object\n",
    "var user = {\n",
    "  name: \"John\",\n",
    "    age: 34,\n",
    "    hobby: \"Soccer\",\n",
    "    isMarried: false,\n",
    "};\n",
    "user.name"
   ]
  },
  {
   "cell_type": "code",
   "execution_count": 16,
   "metadata": {},
   "outputs": [
    {
     "data": {
      "text/plain": [
       "{ name: 'John',\n",
       "  age: 34,\n",
       "  hobby: 'Soccer',\n",
       "  isMarried: false,\n",
       "  favouriteFood: 'Spinach' }"
      ]
     },
     "execution_count": 16,
     "metadata": {},
     "output_type": "execute_result"
    }
   ],
   "source": [
    "// 9. Expand the user object\n",
    "user.favouriteFood = \"Spinach\";\n",
    "user"
   ]
  },
  {
   "cell_type": "code",
   "execution_count": 21,
   "metadata": {},
   "outputs": [
    {
     "data": {
      "text/plain": [
       "'Sally'"
      ]
     },
     "execution_count": 21,
     "metadata": {},
     "output_type": "execute_result"
    }
   ],
   "source": [
    "// 10. Create an array called \"newsfeed\" which contains 3 objects with properties \"username\" and \"timeline\".\n",
    "var newsFeed = [\n",
    "  {\n",
    "    username: \"Bobby\",\n",
    "    timeline: \"So exited!\"\n",
    "  },\n",
    "  {\n",
    "    username: \"Sally\",\n",
    "    timeline: \"JS is sooooo cool!\"\n",
    "  },\n",
    "  {\n",
    "    username: \"Mitch\",\n",
    "    timeline: \"JS is preeetyy cool!\"\n",
    "  }\n",
    "];\n",
    "newsFeed[1].username"
   ]
  },
  {
   "cell_type": "markdown",
   "metadata": {},
   "source": [
    "## Javascript Looping\n",
    "\n",
    "- `for`\n",
    "- `while`\n",
    "- `do` \n",
    "- `forEach` (new) "
   ]
  },
  {
   "cell_type": "markdown",
   "metadata": {},
   "source": [
    "```js\n",
    "// for example\n",
    "var toDos = [\n",
    "    \"Clean\", \n",
    "    \"Wash\", \n",
    "    \"Drive\", \n",
    "    \"Buy\", \n",
    "    \"Work\"\n",
    "];\n",
    "for (var i=0, i < toDos.length; i++) {\n",
    "        console.log(todos[i]);\n",
    "}\n",
    "```"
   ]
  },
  {
   "cell_type": "markdown",
   "metadata": {},
   "source": [
    "```js\n",
    "// while example\n",
    "var counterOne = 0;\n",
    "while (counterOne < 5) {\n",
    "    console.log(counterOne);\n",
    "    counterOne++\n",
    "}\n",
    "```"
   ]
  },
  {
   "cell_type": "markdown",
   "metadata": {},
   "source": [
    "```js\n",
    "// do example\n",
    "var counterTwo = 5;\n",
    "do {\n",
    "    console.log(counterTwo)\n",
    "    counterTwo--;\n",
    "} while (counterTwo > 0);\n",
    "```"
   ]
  },
  {
   "cell_type": "markdown",
   "metadata": {},
   "source": [
    "```js\n",
    "// forEach example\n",
    "var toDos = [\n",
    "    \"Clean\", \n",
    "    \"Wash\", \n",
    "    \"Drive\", \n",
    "    \"Buy\", \n",
    "    \"Work\"\n",
    "];\n",
    "toDos.forEach(funtion(i) {\n",
    "    console.log(i); \n",
    "})\n",
    "```"
   ]
  },
  {
   "cell_type": "markdown",
   "metadata": {},
   "source": [
    "## Javascript Keywords\n",
    "\n",
    "- break\n",
    "- case\n",
    "- catch\n",
    "- class\n",
    "- const\n",
    "- continue\n",
    "- debugger\n",
    "- default\n",
    "- delete\n",
    "- do\n",
    "- else\n",
    "- export\n",
    "- extends\n",
    "- finally\n",
    "- for\n",
    "- function\n",
    "- if\n",
    "- import\n",
    "- in\n",
    "- instanceof\n",
    "- new\n",
    "- return\n",
    "- super\n",
    "- switch\n",
    "- this\n",
    "- throw\n",
    "- try\n",
    "- typeof\n",
    "- var\n",
    "- void\n",
    "- while\n",
    "- with\n",
    "- yield"
   ]
  },
  {
   "cell_type": "code",
   "execution_count": null,
   "metadata": {},
   "outputs": [],
   "source": []
  }
 ],
 "metadata": {
  "kernelspec": {
   "display_name": "Javascript (Node.js)",
   "language": "javascript",
   "name": "javascript"
  },
  "language_info": {
   "file_extension": ".js",
   "mimetype": "application/javascript",
   "name": "javascript",
   "version": "10.13.0"
  }
 },
 "nbformat": 4,
 "nbformat_minor": 2
}
