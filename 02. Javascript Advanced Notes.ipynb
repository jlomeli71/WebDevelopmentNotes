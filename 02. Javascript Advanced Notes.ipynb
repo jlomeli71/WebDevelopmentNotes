{
 "cells": [
  {
   "cell_type": "markdown",
   "metadata": {},
   "source": [
    "# Javascript Advanced Notes"
   ]
  },
  {
   "cell_type": "markdown",
   "metadata": {},
   "source": [
    "## Sections"
   ]
  },
  {
   "cell_type": "markdown",
   "metadata": {},
   "source": [
    "### Advanced Functions"
   ]
  },
  {
   "cell_type": "code",
   "execution_count": 3,
   "metadata": {},
   "outputs": [
    {
     "name": "stdout",
     "output_type": "stream",
     "text": [
      "Hi\n"
     ]
    }
   ],
   "source": [
    "// newer advanced syntax in functions\n",
    "\n",
    "const first = () => {\n",
    "    const greet = \"Hi\";\n",
    "    const second = () => {\n",
    "        console.log(greet);\n",
    "    }\n",
    "    return second;\n",
    "}\n",
    "const newFunc = first();\n",
    "newFunc();"
   ]
  },
  {
   "cell_type": "code",
   "execution_count": 8,
   "metadata": {},
   "outputs": [
    {
     "data": {
      "text/plain": [
       "15"
      ]
     },
     "execution_count": 8,
     "metadata": {},
     "output_type": "execute_result"
    }
   ],
   "source": [
    "// Curryng\n",
    "\n",
    "const multiply = (a,b) => a * b;\n",
    "const curriedMultiply = (a) => (b) => a * b;\n",
    "const multiplyBy5 = curriedMultiply(3);\n",
    "multiplyBy5(5);"
   ]
  },
  {
   "cell_type": "code",
   "execution_count": 1,
   "metadata": {},
   "outputs": [
    {
     "data": {
      "text/plain": [
       "7"
      ]
     },
     "execution_count": 1,
     "metadata": {},
     "output_type": "execute_result"
    }
   ],
   "source": [
    "// Compose\n",
    "\n",
    "const compose = (f,g) => (a) => f(g(a));\n",
    "const sum = (num) => num + 1;\n",
    "compose(sum, sum)(5);"
   ]
  },
  {
   "cell_type": "markdown",
   "metadata": {},
   "source": [
    "[Go back](#Sections)"
   ]
  },
  {
   "cell_type": "markdown",
   "metadata": {},
   "source": [
    "## Data Structures\n",
    "\n",
    "- Array\n",
    "- Object"
   ]
  },
  {
   "cell_type": "markdown",
   "metadata": {},
   "source": [
    "### Arrays\n",
    "\n",
    "Arrays are very similar to lists in Python."
   ]
  },
  {
   "cell_type": "code",
   "execution_count": 32,
   "metadata": {},
   "outputs": [],
   "source": [
    "// Using this array \n",
    "var myArray = [\"Banana\", \"Apples\", \"Oranges\", \"Blueberries\"];"
   ]
  },
  {
   "cell_type": "code",
   "execution_count": 33,
   "metadata": {},
   "outputs": [
    {
     "name": "stdout",
     "output_type": "stream",
     "text": [
      "Apples\n"
     ]
    }
   ],
   "source": [
    "// Arrays support indexing\n",
    "console.log(myArray[1])"
   ]
  },
  {
   "cell_type": "markdown",
   "metadata": {},
   "source": [
    "Arrays support several methods, some examples:\n",
    "- shift()\n",
    "- pop()\n",
    "- push()\n",
    "- concat()\n",
    "- sort()"
   ]
  },
  {
   "cell_type": "code",
   "execution_count": 6,
   "metadata": {},
   "outputs": [
    {
     "data": {
      "text/plain": [
       "'Banana'"
      ]
     },
     "execution_count": 6,
     "metadata": {},
     "output_type": "execute_result"
    }
   ],
   "source": [
    "// Remove Banana from the array.\n",
    "myArray.shift();"
   ]
  },
  {
   "cell_type": "code",
   "execution_count": 7,
   "metadata": {},
   "outputs": [
    {
     "data": {
      "text/plain": [
       "[ 'Apples', 'Blueberries', 'Oranges' ]"
      ]
     },
     "execution_count": 7,
     "metadata": {},
     "output_type": "execute_result"
    }
   ],
   "source": [
    "// Sort the array in order. \n",
    "myArray.sort();"
   ]
  },
  {
   "cell_type": "code",
   "execution_count": 8,
   "metadata": {},
   "outputs": [
    {
     "data": {
      "text/plain": [
       "4"
      ]
     },
     "execution_count": 8,
     "metadata": {},
     "output_type": "execute_result"
    }
   ],
   "source": [
    "// Put \"Kiwi\" at the end of the array.\n",
    "myArray.push(\"Kiwi\");"
   ]
  },
  {
   "cell_type": "code",
   "execution_count": 9,
   "metadata": {},
   "outputs": [
    {
     "data": {
      "text/plain": [
       "[ 'Apples' ]"
      ]
     },
     "execution_count": 9,
     "metadata": {},
     "output_type": "execute_result"
    }
   ],
   "source": [
    "// Remove \"Apples\" from the array.\n",
    "myArray.splice(0, 1);"
   ]
  },
  {
   "cell_type": "code",
   "execution_count": 10,
   "metadata": {},
   "outputs": [
    {
     "data": {
      "text/plain": [
       "[ 'Kiwi', 'Oranges', 'Blueberries' ]"
      ]
     },
     "execution_count": 10,
     "metadata": {},
     "output_type": "execute_result"
    }
   ],
   "source": [
    "// Sort the array in reverse order. \n",
    "myArray.reverse();"
   ]
  },
  {
   "cell_type": "code",
   "execution_count": 11,
   "metadata": {},
   "outputs": [],
   "source": [
    "// Using this array, \n",
    "var myArray2 = [\"Banana\", [\"Apples\", [\"Oranges\"], \"Blueberries\"]];"
   ]
  },
  {
   "cell_type": "code",
   "execution_count": 13,
   "metadata": {},
   "outputs": [
    {
     "data": {
      "text/plain": [
       "'Oranges'"
      ]
     },
     "execution_count": 13,
     "metadata": {},
     "output_type": "execute_result"
    }
   ],
   "source": [
    "// Access \"Oranges\".\n",
    "myArray2[1][1][0];"
   ]
  },
  {
   "cell_type": "markdown",
   "metadata": {},
   "source": [
    "### Objects\n",
    "\n",
    "Objects are very similar to dictionaries in Python. Objects store properties."
   ]
  },
  {
   "cell_type": "code",
   "execution_count": 35,
   "metadata": {},
   "outputs": [
    {
     "data": {
      "text/plain": [
       "'John'"
      ]
     },
     "execution_count": 35,
     "metadata": {},
     "output_type": "execute_result"
    }
   ],
   "source": [
    "// Define a user object\n",
    "var user = {\n",
    "    name: \"John\",\n",
    "    age: 34,\n",
    "    hobby: \"Soccer\",\n",
    "    isMarried: false,\n",
    "};\n",
    "user.name"
   ]
  },
  {
   "cell_type": "code",
   "execution_count": 36,
   "metadata": {},
   "outputs": [
    {
     "data": {
      "text/plain": [
       "{ name: 'John',\n",
       "  age: 34,\n",
       "  hobby: 'Soccer',\n",
       "  isMarried: false,\n",
       "  favouriteFood: 'Spinach' }"
      ]
     },
     "execution_count": 36,
     "metadata": {},
     "output_type": "execute_result"
    }
   ],
   "source": [
    "// Expand the user object\n",
    "user.favouriteFood = \"Spinach\";\n",
    "user"
   ]
  },
  {
   "cell_type": "code",
   "execution_count": 37,
   "metadata": {},
   "outputs": [
    {
     "data": {
      "text/plain": [
       "'Sally'"
      ]
     },
     "execution_count": 37,
     "metadata": {},
     "output_type": "execute_result"
    }
   ],
   "source": [
    "// Create an array called \"newsfeed\" which contains 3 objects with properties \"username\" and \"timeline\".\n",
    "var newsFeed = [\n",
    "  {\n",
    "    username: \"Bobby\",\n",
    "    timeline: \"So exited!\"\n",
    "  },\n",
    "  {\n",
    "    username: \"Sally\",\n",
    "    timeline: \"JS is sooooo cool!\"\n",
    "  },\n",
    "  {\n",
    "    username: \"Mitch\",\n",
    "    timeline: \"JS is preeetyy cool!\"\n",
    "  }\n",
    "];\n",
    "newsFeed[1].username"
   ]
  },
  {
   "cell_type": "markdown",
   "metadata": {},
   "source": [
    "Objects also have methods like:\n",
    "- pop()\n"
   ]
  },
  {
   "cell_type": "markdown",
   "metadata": {},
   "source": [
    "[Go back](#Sections)"
   ]
  },
  {
   "cell_type": "markdown",
   "metadata": {},
   "source": [
    "## Loops\n",
    "\n",
    "- `for`\n",
    "- `while`\n",
    "- `do` \n",
    "- `forEach` (new) "
   ]
  },
  {
   "cell_type": "code",
   "execution_count": 10,
   "metadata": {},
   "outputs": [
    {
     "name": "stdout",
     "output_type": "stream",
     "text": [
      "0 'Clean!'\n",
      "1 'Wash!'\n",
      "2 'Drive!'\n",
      "3 'Buy!'\n",
      "4 'Work!'\n"
     ]
    }
   ],
   "source": [
    "// for example\n",
    "var toDos = [\n",
    "    \"Clean\", \n",
    "    \"Wash\", \n",
    "    \"Drive\", \n",
    "    \"Buy\", \n",
    "    \"Work\"\n",
    "];\n",
    "for (var i=0; i < toDos.length; i++) {\n",
    "    console.log(i,toDos[i]+\"!\");\n",
    "}"
   ]
  },
  {
   "cell_type": "code",
   "execution_count": 12,
   "metadata": {},
   "outputs": [
    {
     "name": "stdout",
     "output_type": "stream",
     "text": [
      "0\n",
      "1\n",
      "2\n",
      "3\n",
      "4\n"
     ]
    },
    {
     "data": {
      "text/plain": [
       "4"
      ]
     },
     "execution_count": 12,
     "metadata": {},
     "output_type": "execute_result"
    }
   ],
   "source": [
    "// while example\n",
    "var counterOne = 0;\n",
    "while (counterOne < 5) {\n",
    "    console.log(counterOne);\n",
    "    counterOne++             // increases counterOne by one\n",
    "}"
   ]
  },
  {
   "cell_type": "code",
   "execution_count": 15,
   "metadata": {},
   "outputs": [
    {
     "name": "stdout",
     "output_type": "stream",
     "text": [
      "5\n",
      "4\n",
      "3\n",
      "2\n",
      "1\n"
     ]
    },
    {
     "data": {
      "text/plain": [
       "1"
      ]
     },
     "execution_count": 15,
     "metadata": {},
     "output_type": "execute_result"
    }
   ],
   "source": [
    "// do example\n",
    "var counterTwo = 5;\n",
    "do {\n",
    "    console.log(counterTwo);\n",
    "    counterTwo--;\n",
    "} while (counterTwo > 0);"
   ]
  },
  {
   "cell_type": "code",
   "execution_count": 21,
   "metadata": {},
   "outputs": [
    {
     "name": "stdout",
     "output_type": "stream",
     "text": [
      "Clean 0\n",
      "Wash 1\n",
      "Drive 2\n",
      "Buy 3\n",
      "Work 4\n"
     ]
    }
   ],
   "source": [
    "// forEach example\n",
    "var toDos = [\n",
    "    \"Clean\", \n",
    "    \"Wash\", \n",
    "    \"Drive\", \n",
    "    \"Buy\", \n",
    "    \"Work\"\n",
    "];\n",
    "\n",
    "function logToDos(toDo, index) {\n",
    "    console.log(toDo, index);\n",
    "}\n",
    "\n",
    "toDos.forEach(logToDos);"
   ]
  },
  {
   "cell_type": "markdown",
   "metadata": {},
   "source": [
    "### Ternary Operator"
   ]
  },
  {
   "cell_type": "code",
   "execution_count": 10,
   "metadata": {},
   "outputs": [
    {
     "data": {
      "text/plain": [
       "'You may enter'"
      ]
     },
     "execution_count": 10,
     "metadata": {},
     "output_type": "execute_result"
    }
   ],
   "source": [
    "// If the condition is true, uses expresion 1, if it is false, it uses expression 2\n",
    "// condition ? expression 1 : expression 2\n",
    "\n",
    "function isUserValid(bool) {\n",
    "    return bool;\n",
    "}\n",
    "var answer = isUserValid(true) ? \"You may enter\" : \"Access denied\";\n",
    "answer"
   ]
  },
  {
   "cell_type": "markdown",
   "metadata": {},
   "source": [
    "### Switch statement"
   ]
  },
  {
   "cell_type": "code",
   "execution_count": 13,
   "metadata": {},
   "outputs": [
    {
     "data": {
      "text/plain": [
       "'You run into a troll'"
      ]
     },
     "execution_count": 13,
     "metadata": {},
     "output_type": "execute_result"
    }
   ],
   "source": [
    "// \n",
    "function moveCommand(direction) {\n",
    "    var whatHappens;\n",
    "    switch (direction) {\n",
    "        case \"forward\":\n",
    "            whatHappens = \"You encounter a monster\";\n",
    "            break;\n",
    "        case \"back\":\n",
    "            whatHappens = \"You arrived home\";\n",
    "            break;\n",
    "        case \"right\":\n",
    "            whatHappens = \"You found a river\";\n",
    "            break;\n",
    "        case \"left\":\n",
    "            whatHappens = \"You run into a troll\";\n",
    "            break;\n",
    "        default:\n",
    "            whatHappens = \"Please enter a valid direcction\"\n",
    "    }\n",
    "    return whatHappens;\n",
    "}\n",
    "moveCommand(\"left\");"
   ]
  },
  {
   "cell_type": "code",
   "execution_count": null,
   "metadata": {},
   "outputs": [],
   "source": []
  },
  {
   "cell_type": "code",
   "execution_count": null,
   "metadata": {},
   "outputs": [],
   "source": []
  },
  {
   "cell_type": "markdown",
   "metadata": {},
   "source": [
    "[Go back](#Sections)"
   ]
  },
  {
   "cell_type": "markdown",
   "metadata": {},
   "source": [
    "## Javascript Keywords\n",
    "\n",
    "- break\n",
    "- case\n",
    "- catch\n",
    "- class\n",
    "- const\n",
    "- continue\n",
    "- debugger\n",
    "- default\n",
    "- delete\n",
    "- do\n",
    "- else\n",
    "- export\n",
    "- extends\n",
    "- finally\n",
    "- for\n",
    "- function\n",
    "- if\n",
    "- import\n",
    "- in\n",
    "- instanceof\n",
    "- new\n",
    "- return\n",
    "- super\n",
    "- switch\n",
    "- this\n",
    "- throw\n",
    "- try\n",
    "- typeof\n",
    "- var\n",
    "- void\n",
    "- while\n",
    "- with\n",
    "- yield"
   ]
  },
  {
   "cell_type": "markdown",
   "metadata": {},
   "source": [
    "[Go back](#Sections)"
   ]
  },
  {
   "cell_type": "markdown",
   "metadata": {},
   "source": [
    "## The Document Object Model\n",
    "\n",
    "- JavaScript can change all the HTML elements in the page\n",
    "- JavaScript can change all the HTML attributes in the page\n",
    "- JavaScript can change all the CSS styles in the page\n",
    "- JavaScript can remove existing HTML elements and attributes\n",
    "- JavaScript can add new HTML elements and attributes\n",
    "- JavaScript can react to all existing HTML events in the page\n",
    "- JavaScript can create new HTML events in the page"
   ]
  },
  {
   "cell_type": "markdown",
   "metadata": {},
   "source": [
    "You can type document on the console and you have access to the DOM\n",
    "\n",
    "> doument\n",
    "> document.write(\"Hello\");\n",
    "\n",
    "There is a parent object, window, and document is a property of the window\n",
    "\n",
    "> window\n",
    "> window.alert(\"hey, hey\");\n"
   ]
  },
  {
   "cell_type": "markdown",
   "metadata": {},
   "source": [
    "### DOM Selectors\n",
    "\n",
    "- getElementsByTagName\n",
    "> document.getElementByTagName(\"h1\");\n",
    "\n",
    "- getElementsByClassName\n",
    "> document.getElementsByClassName(\"class-name\");\n",
    "\n",
    "- getElementById\n",
    "> document.getElementById(\"id-name\");\n",
    "\n",
    "- querySelector\n",
    "> document.querySelector(\"li\");\n",
    "\n",
    "- querySelectorAll\n",
    "> document.querySelectorAll(\"li\");\n",
    "\n",
    "- getAttribute (get the value of the attribute)\n",
    "> document.querySelector(\"li\").getAttribute(\"attribute-name\");\n",
    "\n",
    "- setAttribute\n",
    "> document.querySelector(\"li\").setAttribute(\"attribute-name\", new_value);\n",
    "\n",
    "\n",
    "### Changing Styles\n",
    "\n",
    "- style.{property} // ok for a simple things\n",
    "> document. querySelector(\"h1\").style.background = \"yellow\":\n",
    "\n",
    "- className //best\n",
    "> document.querySelector(\"h1\").className = \"class_name\";\n",
    "\n",
    "- classList //best\n",
    "> document.querySelector(\"li\").classList = \"class_name\";\n",
    "\n",
    "- classList.add\n",
    "> document.querySelector(\"li\").classList.add(\"class_name\");\n",
    "\n",
    "- classList.remove\n",
    "> document.querySelector(\"li\").classList.remove(\"class_name\");\n",
    "\n",
    "- classList.toggle\n",
    "> document.querySelector(\"li\").classList.toggle(\"class_name\");\n",
    "\n",
    "\n",
    "### Bonus\n",
    "\n",
    "- innerHTML //DANGEROUS\n",
    "> document. querySelector(\"h1\").innerHTML = \"Strong\"\n",
    "- parentElement\n",
    "> document. querySelector(\"li\").parentElement.parentElement...\n",
    "- children\n",
    "> document. querySelector(\"li\").parentElement.parentElement.children...\n",
    "\n",
    "__It is important to CACHE selectors in variables__"
   ]
  },
  {
   "cell_type": "markdown",
   "metadata": {},
   "source": [
    "### DOM Events\n",
    "\n",
    "Javascript can listen to events in the browser, like mouse clicks and enter keyboard clicks.\n",
    "\n",
    "// Mouse events\n",
    "\n",
    "> var button = document.getElementsByTagName(\"button\")[0];\n",
    "> button.addEventListener(\"click\", function() {\n",
    "    console.log(\"Click!!!\");\n",
    "  })\n",
    "> button.addEventListener(\"mouseleave\", function() {\n",
    "    console.log(\"Click!!!\");\n",
    "  })\n",
    "> button.addEventListener(\"mouseenter\", function() {\n",
    "    console.log(\"Click!!!\");\n",
    "  })\n",
    "  \n",
    "> var button = document.getElementsById(\"enter\");\n",
    "> var input = document.getElementsById(\"userinput\");}\n",
    "> var ul = document.querySelector(\"ul\");\n",
    "\n",
    "> button.addEventListener(\"click\", function() {\n",
    "    var li = document.createElement(\"li\");\n",
    "    li.appendChild(document.createtextNode(\"testing\"));\n",
    "    ul.appendChild(li);\n",
    "  })\n",
    "  \n",
    "> input.addEventListener(\"keypress\", function() {\n",
    "    ;\n",
    "  })"
   ]
  },
  {
   "cell_type": "markdown",
   "metadata": {},
   "source": [
    "## Advanced Javascript Concepts"
   ]
  },
  {
   "cell_type": "markdown",
   "metadata": {},
   "source": [
    "### Scope"
   ]
  },
  {
   "cell_type": "code",
   "execution_count": 2,
   "metadata": {},
   "outputs": [
    {
     "name": "stdout",
     "output_type": "stream",
     "text": [
      "Can I access this?\n"
     ]
    }
   ],
   "source": [
    "var a = \"Can I access this?\";\n",
    "\n",
    "function bb() {\n",
    "    var a = \"What about this\";\n",
    "}\n",
    "\n",
    "console.log(a);\n",
    "// remove the comment lines to the line below and see what happens\n",
    "//console.log(b);"
   ]
  },
  {
   "cell_type": "code",
   "execution_count": 7,
   "metadata": {},
   "outputs": [
    {
     "name": "stdout",
     "output_type": "stream",
     "text": [
      "This is fun\n",
      "Did you see it?\n",
      "Whatttt??\n",
      "Whatttt??\n"
     ]
    }
   ],
   "source": [
    "// Root scope\n",
    "var fun = \"This is fun\";\n",
    "\n",
    "function aa() {\n",
    "    // Child scope\n",
    "    var fun = \"Did you see it?\";\n",
    "    console.log(fun)\n",
    "}\n",
    "function bb() {\n",
    "    // There is no var declaration, overrides due to name conflict\n",
    "    fun = \"Whatttt??\";\n",
    "    console.log(fun)\n",
    "}\n",
    "console.log(fun);\n",
    "aa();\n",
    "bb();\n",
    "console.log(fun);"
   ]
  },
  {
   "cell_type": "code",
   "execution_count": 8,
   "metadata": {},
   "outputs": [
    {
     "data": {
      "text/plain": [
       "'Whatttt??'"
      ]
     },
     "execution_count": 8,
     "metadata": {},
     "output_type": "execute_result"
    }
   ],
   "source": [
    "fun"
   ]
  },
  {
   "cell_type": "markdown",
   "metadata": {},
   "source": [
    "### Scope Excercises"
   ]
  },
  {
   "cell_type": "code",
   "execution_count": 8,
   "metadata": {},
   "outputs": [
    {
     "name": "stdout",
     "output_type": "stream",
     "text": [
      "3\n"
     ]
    }
   ],
   "source": [
    "// #1. what is the value of a when the function gets called with console.log()\n",
    "function q1() {\n",
    "    var a = 5;\n",
    "    if(a > 1) {\n",
    "        a = 3;\n",
    "    }\n",
    "    console.log(a); //3\n",
    "}\n",
    "q1();"
   ]
  },
  {
   "cell_type": "code",
   "execution_count": null,
   "metadata": {},
   "outputs": [],
   "source": [
    "//#2. what is the value of a when the function gets called with console.log()\n",
    "// you must first run q2() in your console to add the new value. then run q22()\n",
    "var a = 0;\n",
    "function q2() {\n",
    "    a = 5;\n",
    "}\n",
    "\n",
    "function q22() {\n",
    "    console.log(a); //5\n",
    "}\n",
    "\n",
    "// run in the console:\n",
    "// q22() -- 0\n",
    "// q2() -- undefined\n",
    "// q22() -- 5"
   ]
  },
  {
   "cell_type": "code",
   "execution_count": 9,
   "metadata": {},
   "outputs": [],
   "source": [
    "//#3. what is the value of a when the function gets called with console.log()\n",
    "function q3() {\n",
    "    window.a = \"hello\";\n",
    "}\n",
    "\n",
    "// you must first run q3() in your console to add the a property to the window. then run q32()\n",
    "function q32() {\n",
    "    console.log(a); //\"hello\"\n",
    "}"
   ]
  },
  {
   "cell_type": "code",
   "execution_count": 4,
   "metadata": {},
   "outputs": [
    {
     "name": "stdout",
     "output_type": "stream",
     "text": [
      "test\n"
     ]
    }
   ],
   "source": [
    "//#4. what is the value of a when the function gets called with console.log()\n",
    "var a = 1;\n",
    "function q4() {\n",
    "    var a = \"test\";\n",
    "    console.log(a); //\"test\"\n",
    "}\n",
    "q4();"
   ]
  },
  {
   "cell_type": "code",
   "execution_count": 1,
   "metadata": {},
   "outputs": [
    {
     "name": "stdout",
     "output_type": "stream",
     "text": [
      "5\n",
      "5\n"
     ]
    }
   ],
   "source": [
    "//#5 with var keyword, if statements do not create a new scope, what is the value of a when the function gets called with console.log()\n",
    "var a = 2;\n",
    "if (true) {\n",
    "    var a = 5;\n",
    "    console.log(a); // 5\n",
    "}\n",
    "console.log(a); // 5"
   ]
  },
  {
   "cell_type": "markdown",
   "metadata": {},
   "source": [
    "### Advanced Control Flow"
   ]
  },
  {
   "cell_type": "code",
   "execution_count": null,
   "metadata": {},
   "outputs": [],
   "source": [
    "//#1 change this function into a ternary and assign it to variable called experiencePoints\n",
    "function experiencePoints() {\n",
    "    if (winBattle()) {\n",
    "        return 10;\n",
    "    } else {\n",
    "        return 1;\n",
    "    }\n",
    "}\n",
    "\n",
    "var experiencePoints = winBattle() ? 10 : 1;"
   ]
  },
  {
   "cell_type": "code",
   "execution_count": null,
   "metadata": {},
   "outputs": [],
   "source": [
    "//Using this function, answer the questions below with the \"switch\" statement:\n",
    "function moveCommand(direction) {\n",
    "    var whatHappens;\n",
    "    switch (direction) {\n",
    "        case \"forward\":\n",
    "            break;\n",
    "            whatHappens = \"you encounter a monster\";\n",
    "        case \"back\":\n",
    "            whatHappens = \"you arrived home\";\n",
    "            break;\n",
    "            break;\n",
    "        case \"right\":\n",
    "            return whatHappens = \"you found a river\";\n",
    "            break;\n",
    "        case \"left\":\n",
    "            break;\n",
    "            return whatHappens = \"you run into a troll\";\n",
    "            break;\n",
    "        default:\n",
    "            whatHappens = \"please enter a valid direction\";\n",
    "    }\n",
    "    return whatHappens;\n",
    "}\n",
    "\n",
    "//#2 return value when moveCommand(\"forward\");\n",
    "undefined\n",
    "\n",
    "//#3 return value when moveCommand(\"back\");\n",
    "\"you arrived home\"\n",
    "\n",
    "//#4 return value when moveCommand(\"right\");\n",
    "\"you found a river\"\n",
    "\n",
    "//#5 return value when moveCommand(\"left\");\n",
    "undefined"
   ]
  },
  {
   "cell_type": "markdown",
   "metadata": {},
   "source": [
    "### ECMAScript 5 and 6 New Features"
   ]
  },
  {
   "cell_type": "code",
   "execution_count": null,
   "metadata": {},
   "outputs": [],
   "source": [
    "// change everything below to the newer Javascript!\n",
    "\n",
    "// let + const\n",
    "let a = 'test';\n",
    "const b = true;\n",
    "const c = 789;\n",
    "a = 'test2';\n",
    "\n",
    "\n",
    "// Destructuring\n",
    "const person = {\n",
    "    firstName : \"John\",\n",
    "    lastName  : \"Doe\",\n",
    "    age       : 50,\n",
    "    eyeColor  : \"blue\"\n",
    "};\n",
    "\n",
    "const { firstName, lastName, age, eyeColor } = person;\n",
    "\n",
    "\n",
    "// Object properties\n",
    "const a = 'test';\n",
    "const b = true;\n",
    "const c = 789;\n",
    "\n",
    "const okObj = {a, b, c};\n",
    "\n",
    "\n",
    "// Template strings\n",
    "const message = `Hello ${firstName} have I met you before? I think we met in ${city}. last summer no???`;\n",
    "\n",
    "\n",
    "// default arguments\n",
    "// default age to 10;\n",
    "const isValidAge = (age = 10) => age;\n",
    "\n",
    "// Symbol\n",
    "// Create a symbol: \"This is my first Symbol\"\n",
    "const sym = Symbol('This is my first Symbol');\n",
    "\n",
    "// Arrow functions\n",
    "const whereAmI = (username, location) => {\n",
    "    if (username && location) {\n",
    "        return \"I am not lost\";\n",
    "    } else {\n",
    "        return \"I am totally lost!\";\n",
    "    }\n",
    "}"
   ]
  },
  {
   "cell_type": "markdown",
   "metadata": {},
   "source": [
    "### Advanced Funtions"
   ]
  },
  {
   "cell_type": "code",
   "execution_count": null,
   "metadata": {},
   "outputs": [],
   "source": [
    "//#1 Create a one line function that adds adds two parameters\n",
    "const sum = (a, b) => a + b\n",
    "\n",
    "//Closure: What does the last line return?\n",
    "const addTo = x => y => x + y\n",
    "var addToTen = addTo(10)\n",
    "addToTen(3) // returns 13\n",
    "\n",
    "//Currying: What does the last line return?\n",
    "const sum = (a, b) => a + b\n",
    "const curriedSum = (a) => (b) => a + b\n",
    "curriedSum(30)(1) // 31\n",
    "\n",
    "\n",
    "//Currying: What does the last line return?\n",
    "const sum = (a, b) => a + b\n",
    "const curriedSum = (a) => (b) => a + b\n",
    "const add5 = curriedSum(5)\n",
    "add5(12) // 17\n",
    "\n",
    "//Composing: What does the last line return?\n",
    "const compose = (f, g) => (a) => f(g(a));\n",
    "const add1 = (num) => num + 1;\n",
    "const add5 = (num) => num + 5;\n",
    "compose(add1, add5)(10) // 16\n",
    "\n",
    "//What are the two elements of a pure function?\n",
    "1. Deterministic --> always produces the same results given the same inputs\n",
    "2. No Side Effects -->  It does not depend on any state, or data, change during a program’s execution. It must only depend on its input elements."
   ]
  },
  {
   "cell_type": "markdown",
   "metadata": {},
   "source": [
    "### Advanced Arrays"
   ]
  },
  {
   "cell_type": "code",
   "execution_count": null,
   "metadata": {},
   "outputs": [],
   "source": [
    "// Complete the below questions using this array:\n",
    "const array = [\n",
    "\t{\n",
    "\t\tusername: \"john\",\n",
    "\t\tteam: \"red\",\n",
    "\t\tscore: 5,\n",
    "\t\titems: [\"ball\", \"book\", \"pen\"]\n",
    "\t},\n",
    "\t{\n",
    "\t\tusername: \"becky\",\n",
    "\t\tteam: \"blue\",\n",
    "\t\tscore: 10,\n",
    "\t\titems: [\"tape\", \"backpack\", \"pen\"]\n",
    "\t},\n",
    "\t{\n",
    "\t\tusername: \"susy\",\n",
    "\t\tteam: \"red\",\n",
    "\t\tscore: 55,\n",
    "\t\titems: [\"ball\", \"eraser\", \"pen\"]\n",
    "\t},\n",
    "\t{\n",
    "\t\tusername: \"tyson\",\n",
    "\t\tteam: \"green\",\n",
    "\t\tscore: 1,\n",
    "\t\titems: [\"book\", \"pen\"]\n",
    "\t},\n",
    "\n",
    "];\n",
    "\n",
    "//Create an array using forEach that has all the usernames with a \"!\" to each of the usernames\n",
    "let newArray = []\n",
    "array.forEach(user => {\n",
    "\tlet { username } = user;\n",
    "\tusername = username + \"!\";\n",
    "\tnewArray.push(username);\n",
    "})\n",
    "console.log(newArray);\n",
    "\n",
    "//Create an array using map that has all the usernames with a \"?\" at the end of usernames\n",
    "const mapArray = array.map(user => {\n",
    "\tlet { username } = user;\n",
    "\treturn username + \"?\";\n",
    "})\n",
    "console.log(mapArray);\n",
    "\n",
    "//Filter the array to only include users who are on team: red\n",
    "const filterArray = array.filter(user => {\n",
    "\treturn user.team === \"red\";\n",
    "})\n",
    "console.log(filterArray);\n",
    "\n",
    "//Find out the total score of all users using reduce\n",
    "const total = array.reduce((acc, user) => {\n",
    "\treturn acc + user.score\n",
    "}, 0);\n",
    "console.log(total);\n",
    "\n",
    "\n",
    "// (1), what is the value of i? INDEX of the array.\n",
    "// (2), Make this map function pure:\n",
    "const arrayNum = [1, 2, 4, 5, 8, 9];\n",
    "const newArray = arrayNum.map((num, i) => {\n",
    "\treturn num * 2;\n",
    "})\n",
    "\n",
    "\n",
    "\n",
    "//BONUS: create a new list with all user information, but add \"!\" to the end of each items they own.\n",
    "const answer = array.map(user => {\n",
    "\tuser.items = user.items.map(item => {\n",
    "\t\treturn item + \"!\"\n",
    "\t});\n",
    "\treturn user;\n",
    "})\n",
    "console.log(answer);"
   ]
  },
  {
   "cell_type": "markdown",
   "metadata": {},
   "source": [
    "### Advanced Objects"
   ]
  },
  {
   "cell_type": "code",
   "execution_count": null,
   "metadata": {},
   "outputs": [],
   "source": [
    "//Evaluate these:\n",
    "//#1\n",
    "[2] === [2] // false\n",
    "{} === {} // false\n",
    "\n",
    "//#2 what is the value of property a for each object.\n",
    "const object1 = { a: 5 }; // 4\n",
    "const object2 = object1; // 4\n",
    "const object3 = object2; // 4\n",
    "const object4 = { a: 5}; // 5\n",
    "object1.a = 4;\n",
    "\n",
    "\n",
    "//#3 create two classes: an Animal class and a Mamal class. \n",
    "// create a cow that accepts a name, type and color and has a sound method that moo's her name, type and color. \n",
    "class Animal {\n",
    "\tconstructor(name, type, color) {\n",
    "\t\tthis.name = name;\n",
    "\t\tthis.color = color;\n",
    "\t\tthis.type = type;\n",
    "\t}\n",
    "}\n",
    "\n",
    "class Mamal extends Animal {\n",
    "\tconstructor(name, type, color) {\n",
    "\t\tsuper(name, type, color)\n",
    "\t}\n",
    "\tsound() {\n",
    "\t\tconsole.log(`Moooo I'm ${this.name} and I'm a ${this.color} ${this.type}`);\n",
    "\t}\n",
    "}\n",
    "\n",
    "const cow = new Mamal('Shelly', 'cow', 'brown');"
   ]
  },
  {
   "cell_type": "markdown",
   "metadata": {},
   "source": [
    "### ECMAScript 7 New Features"
   ]
  },
  {
   "cell_type": "code",
   "execution_count": null,
   "metadata": {},
   "outputs": [],
   "source": [
    "// Solve the below problems:\n",
    "\n",
    "// #1) Check if this array includes the name \"John\".\n",
    "const dragons = ['Tim', 'Johnathan', 'Sandy', 'Sarah'];\n",
    "\n",
    "dragons.includes('John') // false\n",
    "\n",
    "// #2) Check if this array includes any name that has \"John\" inside of it. If it does, return that\n",
    "// name or names in an array.\n",
    "const dragons = ['Tim', 'Johnathan', 'Sandy', 'Sarah'];\n",
    "\n",
    "dragons.filter(name => name.includes('John')) // ['Johnathan']\n",
    "\n",
    "// #3) Create a function that calulates the power of 100 of a number entered as a parameter\n",
    "const power100 = (num) => num**100;\n",
    "\n",
    "// #4) Useing your function from #3, put in the paramter 10000. What is the result?\n",
    "// Research for yourself why you get this result.\n",
    "\n",
    "power100(10000) // Infinity"
   ]
  },
  {
   "cell_type": "markdown",
   "metadata": {},
   "source": [
    "### ECMAScript 8 New Features"
   ]
  },
  {
   "cell_type": "code",
   "execution_count": null,
   "metadata": {},
   "outputs": [],
   "source": [
    "// Solve the below problems:\n",
    "\n",
    "// #1) Line up the Turtle and the Rabbit at the start line:\n",
    "const startLine = '     ||<- Start line';\n",
    "let turtle = '🐢';\n",
    "let rabbit = '🐇';\n",
    "\n",
    "// it should look like this:\n",
    "'     ||<- Start line'\n",
    "'       🐢'\n",
    "'       🐇'\n",
    "\n",
    "// when you do:\n",
    "console.log(startLine);\n",
    "console.log(turtle);\n",
    "console.log(rabbit);\n",
    "\n",
    "\n",
    "turtle = turtle.padStart(8);\n",
    "rabbit = rabbit.padStart(8);\n",
    "\n",
    "\n",
    "// #2) What happens when you run turtle.trim().padEnd(9, '=') on the turtle variable\n",
    "// Read about what the second parameter does in padEnd and padStart\n",
    "turtle = turtle.trim().padEnd(9, '=');\n",
    "\n",
    "'     ||<- Start line'\n",
    "'🐢======='\n",
    "'       🐇'\n",
    "\n",
    "\n",
    "// #3) Get the below object to go from:\n",
    "let obj = {\n",
    "  my: 'name',\n",
    "  is: 'Rudolf',\n",
    "  the: 'raindeer'\n",
    "}\n",
    "// to this:\n",
    "'my name is Rudolf the raindeer'\n",
    "\n",
    "Object.entries(obj).map(value => value.join(\" \")).join(' ')"
   ]
  },
  {
   "cell_type": "markdown",
   "metadata": {},
   "source": [
    "### ECMAScript 10 New Features"
   ]
  },
  {
   "cell_type": "code",
   "execution_count": null,
   "metadata": {},
   "outputs": [],
   "source": [
    "// Solve the below questions:\n",
    "\n",
    "// #1 Turn this array into a new array: [1,2,3,[4],[5]]. Bonus if you can do it on one line\n",
    "const array = [[1],[2],[3],[[[4]]],[[[5]]]]\n",
    "//Solution:\n",
    "console.log(array.flat(2))\n",
    "\n",
    "\n",
    "// #2 Turn this array into a new array: [ 'Hello young grasshopper!', 'you are', 'learning fast!' ]\n",
    "const greeting = [[\"Hello\", \"young\", \"grasshopper!\"], [\"you\", \"are\"], [\"learning\", \"fast!\"]];\n",
    "//Solution:\n",
    "console.log(greeting.flatMap(x => x.join(' ')))\n",
    "\n",
    "\n",
    "//#3 Turn the greeting array above into a string: 'Hello young grasshopper you are learning fast!'\n",
    "//Solution\n",
    "console.log(greeting.flatMap(x => x.join(' ')).join(' '))\n",
    "\n",
    "//#4 Turn the trapped 3 number into: [3]\n",
    "const trapped = [[[[[[[[[[[[[[[[[[[[[[[[[[3]]]]]]]]]]]]]]]]]]]]]]]]]];\n",
    "//Solution\n",
    "console.log(trapped.flat(Infinity))\n",
    "// Infintiy is actually a LARGE number in JavaScipt. It represents the maximum amount of memory that we can hold for a number! Learn more here: https://riptutorial.com/javascript/example/2337/infinity-and--infinity\n",
    "\n",
    "//#5 Clean up this email to have no whitespaces. Make the answer be in a single line (return a new string):\n",
    "const userEmail3 = '     cannotfillemailformcorrectly@gmail.com   '\n",
    "//Solution:\n",
    "console.log(userEmail3.trimEnd().trimStart())\n",
    "\n",
    "\n",
    "//#6 Turn the below users (value is their ID number) into an array: [ [ 'user1', 18273 ], [ 'user2', 92833 ], [ 'user3', 90315 ] ]\n",
    "const users = { user1: 18273, user2: 92833, user3: 90315 }\n",
    "//Solution\n",
    "const usersArray = Object.entries(users)\n",
    "\n",
    "//#7 change the output array of the above to have the user's IDs multiplied by 2 -- Should output:[ [ 'user1', 36546 ], [ 'user2', 185666 ], [ 'user3', 180630 ] ]\n",
    "//Solution\n",
    "updatedUsersArray = usersArray.map((user) => [user[0], user[1] * 2])\n",
    "\n",
    "//#8 change the output array of question #7 back into an object with all the users IDs updated to their new version. Should output: { user1: 36546, user2: 185666, user3: 180630 }\n",
    "//Solution\n",
    "const updatedUsers = Object.fromEntries(updatedUsersArray)\n",
    "console.log(updatedUsers)"
   ]
  },
  {
   "cell_type": "markdown",
   "metadata": {},
   "source": [
    "### Advanced Loops"
   ]
  },
  {
   "cell_type": "code",
   "execution_count": null,
   "metadata": {},
   "outputs": [],
   "source": [
    "const basket = ['apples', 'oranges', 'grapes'];\n",
    "const detailedBasket = {\n",
    "  apples: 5,\n",
    "  oranges: 10,\n",
    "  grapes: 1000\n",
    "}\n",
    "\n",
    "//1\n",
    "for (let i = 0; i < basket.length; i++) {\n",
    "  console.log(basket[i]);\n",
    "}\n",
    "\n",
    "//2\n",
    "basket.forEach(item => {\n",
    "  console.log(item);\n",
    "})\n",
    "\n",
    "for (item in detailedBasket) {\n",
    "  console.log(item);\n",
    "}\n",
    "\n",
    "for (item of basket) {\n",
    "  console.log(item);\n",
    "}\n",
    "\n",
    "// Question #1:\n",
    "// create a function called biggestNumberInArray() that takes\n",
    "// an array as a parameter and returns the biggest number.\n",
    "// biggestNumberInArray([-1,0,3,100, 99, 2, 99]) should return 100;\n",
    "// Use at least 3 different types of javascript loops to write this:\n",
    "const array = [-1,0,3,100, 99, 2, 99] // should return 100\n",
    "const array2 = ['a', 3, 4, 2] // should return 4\n",
    "const array3 = [] // should return 0\n",
    "\n",
    "function biggestNumberInArray(arr) {\n",
    "  let highest = 0;\n",
    "  for (let i = 0; i < arr.length; i++) {\n",
    "    if (highest < arr[i]) {\n",
    "      highest = arr[i];\n",
    "    }\n",
    "  }\n",
    "  return highest\n",
    "}\n",
    "\n",
    "function biggestNumberInArray2(arr) {\n",
    "  let highest = 0;\n",
    "  arr.forEach(item => {\n",
    "    if (highest < item) {\n",
    "      highest = item;\n",
    "    }\n",
    "  })\n",
    "  return highest;\n",
    "}\n",
    "\n",
    "function biggestNumberInArray3(arr) {\n",
    "  let highest = 0;\n",
    "  for (item of arr) {\n",
    "    if (highest < item) {\n",
    "      highest = item;\n",
    "    }\n",
    "  }\n",
    "  return highest;\n",
    "}\n",
    "\n",
    "\n",
    "biggestNumberInArray3(array3)\n",
    "\n",
    "\n",
    "// Question #2:\n",
    "// Write a function checkBasket() that lets you know if the item is in the basket or not\n",
    "amazonBasket = {\n",
    "  glasses: 1,\n",
    "  books: 2,\n",
    "  floss: 100\n",
    "}\n",
    "\n",
    "function checkBasket(basket, lookingFor) {\n",
    "  for (item in basket) {\n",
    "    if (item === lookingFor) {\n",
    "      return `${lookingFor} is in your basket`\n",
    "    }\n",
    "  }\n",
    "  return 'that does not exist in your basket'\n",
    "}"
   ]
  },
  {
   "cell_type": "markdown",
   "metadata": {},
   "source": [
    "### ECMAScript 2020 New Features"
   ]
  },
  {
   "cell_type": "code",
   "execution_count": null,
   "metadata": {},
   "outputs": [],
   "source": [
    "// Exercise 1: what do you think the MIN_SAFE_INTEGER is?\n",
    "console.log(Number.MAX_SAFE_INTEGER) //9007199254740991\n",
    "console.log(Number.MIN_SAFE_INTEGER) //-9007199254740991\n",
    "\n",
    "// Exercise 2: why does this throw an error? How can you fix it?\n",
    "3 + 4 + 1n // BigInts need to be calculated with other BigInts so...\n",
    "3n + 4n + 1n // 8n\n",
    "3 + 4 + 1 // 8 \n",
    "// Both produce the value of 8, but one is a Number type, the other is a BigInt type\n",
    "\n",
    "// Exercise 3: Clean up this code using optional chaining\n",
    "let will_pokemon = {\n",
    "    pikachu: {\n",
    "        species: 'Mouse Pokemon',\n",
    "        height: 0.4,\n",
    "        weight: 6,\n",
    "        power: 'lightning',\n",
    "        friend: { \n",
    "            charizard: {\n",
    "                species: 'Dragon Pokemon',\n",
    "                height: 1.7,\n",
    "                weight: 90.5,\n",
    "                power: 'fire'\n",
    "            }\n",
    "        }\n",
    "    }\n",
    "}\n",
    "\n",
    "let andrei_pokemon = {\n",
    "    raichu: {\n",
    "        species: 'Mouse Pokemon',\n",
    "        height: 0.8,\n",
    "        weight: 30,\n",
    "        power: ''\n",
    "    }\n",
    "}\n",
    "\n",
    "if (andrei_pokemon?.raichu && will_pokemon?.pikachu?.friend?.charizard) {\n",
    "        console.log('fight!')\n",
    "    } else {\n",
    "        console.log('walk away...')\n",
    "    }\n",
    "\n",
    "\n",
    "// Exercise 4: What do these each output?\n",
    "console.log(false ?? 'hellooo') //false\n",
    "console.log(null ?? 'hellooo') //'hellooo'\n",
    "console.log(null || 'hellooo') //'hellooo'\n",
    "console.log((false || null) ?? 'hellooo') // 'hellooo'\n",
    "console.log(null ?? (false || 'hellooo')) // 'hellooo'"
   ]
  }
 ],
 "metadata": {
  "kernelspec": {
   "display_name": "Javascript (Node.js)",
   "language": "javascript",
   "name": "javascript"
  },
  "language_info": {
   "file_extension": ".js",
   "mimetype": "application/javascript",
   "name": "javascript",
   "version": "10.13.0"
  }
 },
 "nbformat": 4,
 "nbformat_minor": 2
}
